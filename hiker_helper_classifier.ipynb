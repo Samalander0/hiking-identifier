{
  "nbformat": 4,
  "nbformat_minor": 0,
  "metadata": {
    "colab": {
      "provenance": [],
      "include_colab_link": true
    },
    "kernelspec": {
      "name": "python3",
      "display_name": "Python 3"
    },
    "accelerator": "GPU",
    "widgets": {
      "application/vnd.jupyter.widget-state+json": {
        "339f9487babf4a1380e4e2b88a7be071": {
          "model_module": "@jupyter-widgets/controls",
          "model_name": "VBoxModel",
          "model_module_version": "1.5.0",
          "state": {
            "_view_name": "VBoxView",
            "_dom_classes": [],
            "_model_name": "VBoxModel",
            "_view_module": "@jupyter-widgets/controls",
            "_model_module_version": "1.5.0",
            "_view_count": null,
            "_view_module_version": "1.5.0",
            "box_style": "",
            "layout": "IPY_MODEL_9ea4df3c50b44feebfb43e60cf3b0949",
            "_model_module": "@jupyter-widgets/controls",
            "children": [
              "IPY_MODEL_dc56b94b24b64d0e9fe93166ba342d7d",
              "IPY_MODEL_f9e04f012c914cfdb7d9033b032902bb",
              "IPY_MODEL_682c6583d24344ce9e19686c03515b90",
              "IPY_MODEL_d43846f630474dbaa6e9aae24eab4df4",
              "IPY_MODEL_a80e3703fbfc4612a95a36f84dd6e3b9"
            ]
          }
        },
        "9ea4df3c50b44feebfb43e60cf3b0949": {
          "model_module": "@jupyter-widgets/base",
          "model_name": "LayoutModel",
          "model_module_version": "1.2.0",
          "state": {
            "_view_name": "LayoutView",
            "grid_template_rows": null,
            "right": null,
            "justify_content": null,
            "_view_module": "@jupyter-widgets/base",
            "overflow": null,
            "_model_module_version": "1.2.0",
            "_view_count": null,
            "flex_flow": null,
            "width": null,
            "min_width": null,
            "border": null,
            "align_items": null,
            "bottom": null,
            "_model_module": "@jupyter-widgets/base",
            "top": null,
            "grid_column": null,
            "overflow_y": null,
            "overflow_x": null,
            "grid_auto_flow": null,
            "grid_area": null,
            "grid_template_columns": null,
            "flex": null,
            "_model_name": "LayoutModel",
            "justify_items": null,
            "grid_row": null,
            "max_height": null,
            "align_content": null,
            "visibility": null,
            "align_self": null,
            "height": null,
            "min_height": null,
            "padding": null,
            "grid_auto_rows": null,
            "grid_gap": null,
            "max_width": null,
            "order": null,
            "_view_module_version": "1.2.0",
            "grid_template_areas": null,
            "object_position": null,
            "object_fit": null,
            "grid_auto_columns": null,
            "margin": null,
            "display": null,
            "left": null
          }
        },
        "dc56b94b24b64d0e9fe93166ba342d7d": {
          "model_module": "@jupyter-widgets/controls",
          "model_name": "LabelModel",
          "model_module_version": "1.5.0",
          "state": {
            "_view_name": "LabelView",
            "style": "IPY_MODEL_41def96661774abfbda702f3b8a3feac",
            "_dom_classes": [],
            "description": "",
            "_model_name": "LabelModel",
            "placeholder": "​",
            "_view_module": "@jupyter-widgets/controls",
            "_model_module_version": "1.5.0",
            "value": "Select your bear!",
            "_view_count": null,
            "_view_module_version": "1.5.0",
            "description_tooltip": null,
            "_model_module": "@jupyter-widgets/controls",
            "layout": "IPY_MODEL_41b6461827434af3a9fd0511bb3fdb08"
          }
        },
        "f9e04f012c914cfdb7d9033b032902bb": {
          "model_module": "@jupyter-widgets/controls",
          "model_name": "FileUploadModel",
          "model_module_version": "1.5.0",
          "state": {
            "_view_name": "FileUploadView",
            "_counter": 0,
            "style": "IPY_MODEL_2c4ff406acd64a31bf30870cf24d71c9",
            "_dom_classes": [],
            "description": "Upload",
            "multiple": false,
            "_model_name": "FileUploadModel",
            "data": [],
            "button_style": "",
            "_view_module": "@jupyter-widgets/controls",
            "_model_module_version": "1.5.0",
            "accept": "",
            "_view_count": null,
            "disabled": false,
            "_view_module_version": "1.5.0",
            "error": "",
            "description_tooltip": null,
            "metadata": [],
            "_model_module": "@jupyter-widgets/controls",
            "layout": "IPY_MODEL_6c9b3a53e03a4f559709454a8a20faf0",
            "icon": "upload"
          }
        },
        "682c6583d24344ce9e19686c03515b90": {
          "model_module": "@jupyter-widgets/controls",
          "model_name": "ButtonModel",
          "model_module_version": "1.5.0",
          "state": {
            "_view_name": "ButtonView",
            "style": "IPY_MODEL_b5f8ed1a40004acc84f55d400413e3ee",
            "_dom_classes": [],
            "description": "Classify",
            "_model_name": "ButtonModel",
            "button_style": "",
            "_view_module": "@jupyter-widgets/controls",
            "_model_module_version": "1.5.0",
            "tooltip": "",
            "_view_count": null,
            "disabled": false,
            "_view_module_version": "1.5.0",
            "layout": "IPY_MODEL_3e4a724f69e747f5bd182afd3d9e3e85",
            "_model_module": "@jupyter-widgets/controls",
            "icon": ""
          }
        },
        "d43846f630474dbaa6e9aae24eab4df4": {
          "model_module": "@jupyter-widgets/output",
          "model_name": "OutputModel",
          "model_module_version": "1.0.0",
          "state": {
            "_view_name": "OutputView",
            "msg_id": "",
            "_dom_classes": [],
            "_model_name": "OutputModel",
            "outputs": [],
            "_view_module": "@jupyter-widgets/output",
            "_model_module_version": "1.0.0",
            "_view_count": null,
            "_view_module_version": "1.0.0",
            "layout": "IPY_MODEL_fb9ca58d20a640bcb059819334f5ca98",
            "_model_module": "@jupyter-widgets/output"
          }
        },
        "a80e3703fbfc4612a95a36f84dd6e3b9": {
          "model_module": "@jupyter-widgets/controls",
          "model_name": "LabelModel",
          "model_module_version": "1.5.0",
          "state": {
            "_view_name": "LabelView",
            "style": "IPY_MODEL_2ce8d4e2e2f04ea18772e00f227b8e63",
            "_dom_classes": [],
            "description": "",
            "_model_name": "LabelModel",
            "placeholder": "​",
            "_view_module": "@jupyter-widgets/controls",
            "_model_module_version": "1.5.0",
            "value": "",
            "_view_count": null,
            "_view_module_version": "1.5.0",
            "description_tooltip": null,
            "_model_module": "@jupyter-widgets/controls",
            "layout": "IPY_MODEL_8fd74c69eaf64f6aa32affbf3f4854f3"
          }
        },
        "41def96661774abfbda702f3b8a3feac": {
          "model_module": "@jupyter-widgets/controls",
          "model_name": "DescriptionStyleModel",
          "model_module_version": "1.5.0",
          "state": {
            "_view_name": "StyleView",
            "_model_name": "DescriptionStyleModel",
            "description_width": "",
            "_view_module": "@jupyter-widgets/base",
            "_model_module_version": "1.5.0",
            "_view_count": null,
            "_view_module_version": "1.2.0",
            "_model_module": "@jupyter-widgets/controls"
          }
        },
        "41b6461827434af3a9fd0511bb3fdb08": {
          "model_module": "@jupyter-widgets/base",
          "model_name": "LayoutModel",
          "model_module_version": "1.2.0",
          "state": {
            "_view_name": "LayoutView",
            "grid_template_rows": null,
            "right": null,
            "justify_content": null,
            "_view_module": "@jupyter-widgets/base",
            "overflow": null,
            "_model_module_version": "1.2.0",
            "_view_count": null,
            "flex_flow": null,
            "width": null,
            "min_width": null,
            "border": null,
            "align_items": null,
            "bottom": null,
            "_model_module": "@jupyter-widgets/base",
            "top": null,
            "grid_column": null,
            "overflow_y": null,
            "overflow_x": null,
            "grid_auto_flow": null,
            "grid_area": null,
            "grid_template_columns": null,
            "flex": null,
            "_model_name": "LayoutModel",
            "justify_items": null,
            "grid_row": null,
            "max_height": null,
            "align_content": null,
            "visibility": null,
            "align_self": null,
            "height": null,
            "min_height": null,
            "padding": null,
            "grid_auto_rows": null,
            "grid_gap": null,
            "max_width": null,
            "order": null,
            "_view_module_version": "1.2.0",
            "grid_template_areas": null,
            "object_position": null,
            "object_fit": null,
            "grid_auto_columns": null,
            "margin": null,
            "display": null,
            "left": null
          }
        },
        "2c4ff406acd64a31bf30870cf24d71c9": {
          "model_module": "@jupyter-widgets/controls",
          "model_name": "ButtonStyleModel",
          "model_module_version": "1.5.0",
          "state": {
            "_view_name": "StyleView",
            "_model_name": "ButtonStyleModel",
            "_view_module": "@jupyter-widgets/base",
            "_model_module_version": "1.5.0",
            "_view_count": null,
            "button_color": null,
            "font_weight": "",
            "_view_module_version": "1.2.0",
            "_model_module": "@jupyter-widgets/controls"
          }
        },
        "6c9b3a53e03a4f559709454a8a20faf0": {
          "model_module": "@jupyter-widgets/base",
          "model_name": "LayoutModel",
          "model_module_version": "1.2.0",
          "state": {
            "_view_name": "LayoutView",
            "grid_template_rows": null,
            "right": null,
            "justify_content": null,
            "_view_module": "@jupyter-widgets/base",
            "overflow": null,
            "_model_module_version": "1.2.0",
            "_view_count": null,
            "flex_flow": null,
            "width": null,
            "min_width": null,
            "border": null,
            "align_items": null,
            "bottom": null,
            "_model_module": "@jupyter-widgets/base",
            "top": null,
            "grid_column": null,
            "overflow_y": null,
            "overflow_x": null,
            "grid_auto_flow": null,
            "grid_area": null,
            "grid_template_columns": null,
            "flex": null,
            "_model_name": "LayoutModel",
            "justify_items": null,
            "grid_row": null,
            "max_height": null,
            "align_content": null,
            "visibility": null,
            "align_self": null,
            "height": null,
            "min_height": null,
            "padding": null,
            "grid_auto_rows": null,
            "grid_gap": null,
            "max_width": null,
            "order": null,
            "_view_module_version": "1.2.0",
            "grid_template_areas": null,
            "object_position": null,
            "object_fit": null,
            "grid_auto_columns": null,
            "margin": null,
            "display": null,
            "left": null
          }
        },
        "b5f8ed1a40004acc84f55d400413e3ee": {
          "model_module": "@jupyter-widgets/controls",
          "model_name": "ButtonStyleModel",
          "model_module_version": "1.5.0",
          "state": {
            "_view_name": "StyleView",
            "_model_name": "ButtonStyleModel",
            "_view_module": "@jupyter-widgets/base",
            "_model_module_version": "1.5.0",
            "_view_count": null,
            "button_color": null,
            "font_weight": "",
            "_view_module_version": "1.2.0",
            "_model_module": "@jupyter-widgets/controls"
          }
        },
        "3e4a724f69e747f5bd182afd3d9e3e85": {
          "model_module": "@jupyter-widgets/base",
          "model_name": "LayoutModel",
          "model_module_version": "1.2.0",
          "state": {
            "_view_name": "LayoutView",
            "grid_template_rows": null,
            "right": null,
            "justify_content": null,
            "_view_module": "@jupyter-widgets/base",
            "overflow": null,
            "_model_module_version": "1.2.0",
            "_view_count": null,
            "flex_flow": null,
            "width": null,
            "min_width": null,
            "border": null,
            "align_items": null,
            "bottom": null,
            "_model_module": "@jupyter-widgets/base",
            "top": null,
            "grid_column": null,
            "overflow_y": null,
            "overflow_x": null,
            "grid_auto_flow": null,
            "grid_area": null,
            "grid_template_columns": null,
            "flex": null,
            "_model_name": "LayoutModel",
            "justify_items": null,
            "grid_row": null,
            "max_height": null,
            "align_content": null,
            "visibility": null,
            "align_self": null,
            "height": null,
            "min_height": null,
            "padding": null,
            "grid_auto_rows": null,
            "grid_gap": null,
            "max_width": null,
            "order": null,
            "_view_module_version": "1.2.0",
            "grid_template_areas": null,
            "object_position": null,
            "object_fit": null,
            "grid_auto_columns": null,
            "margin": null,
            "display": null,
            "left": null
          }
        },
        "2ce8d4e2e2f04ea18772e00f227b8e63": {
          "model_module": "@jupyter-widgets/controls",
          "model_name": "DescriptionStyleModel",
          "model_module_version": "1.5.0",
          "state": {
            "_view_name": "StyleView",
            "_model_name": "DescriptionStyleModel",
            "description_width": "",
            "_view_module": "@jupyter-widgets/base",
            "_model_module_version": "1.5.0",
            "_view_count": null,
            "_view_module_version": "1.2.0",
            "_model_module": "@jupyter-widgets/controls"
          }
        },
        "8fd74c69eaf64f6aa32affbf3f4854f3": {
          "model_module": "@jupyter-widgets/base",
          "model_name": "LayoutModel",
          "model_module_version": "1.2.0",
          "state": {
            "_view_name": "LayoutView",
            "grid_template_rows": null,
            "right": null,
            "justify_content": null,
            "_view_module": "@jupyter-widgets/base",
            "overflow": null,
            "_model_module_version": "1.2.0",
            "_view_count": null,
            "flex_flow": null,
            "width": null,
            "min_width": null,
            "border": null,
            "align_items": null,
            "bottom": null,
            "_model_module": "@jupyter-widgets/base",
            "top": null,
            "grid_column": null,
            "overflow_y": null,
            "overflow_x": null,
            "grid_auto_flow": null,
            "grid_area": null,
            "grid_template_columns": null,
            "flex": null,
            "_model_name": "LayoutModel",
            "justify_items": null,
            "grid_row": null,
            "max_height": null,
            "align_content": null,
            "visibility": null,
            "align_self": null,
            "height": null,
            "min_height": null,
            "padding": null,
            "grid_auto_rows": null,
            "grid_gap": null,
            "max_width": null,
            "order": null,
            "_view_module_version": "1.2.0",
            "grid_template_areas": null,
            "object_position": null,
            "object_fit": null,
            "grid_auto_columns": null,
            "margin": null,
            "display": null,
            "left": null
          }
        },
        "fb9ca58d20a640bcb059819334f5ca98": {
          "model_module": "@jupyter-widgets/base",
          "model_name": "LayoutModel",
          "model_module_version": "1.2.0",
          "state": {
            "_view_name": "LayoutView",
            "grid_template_rows": null,
            "right": null,
            "justify_content": null,
            "_view_module": "@jupyter-widgets/base",
            "overflow": null,
            "_model_module_version": "1.2.0",
            "_view_count": null,
            "flex_flow": null,
            "width": null,
            "min_width": null,
            "border": null,
            "align_items": null,
            "bottom": null,
            "_model_module": "@jupyter-widgets/base",
            "top": null,
            "grid_column": null,
            "overflow_y": null,
            "overflow_x": null,
            "grid_auto_flow": null,
            "grid_area": null,
            "grid_template_columns": null,
            "flex": null,
            "_model_name": "LayoutModel",
            "justify_items": null,
            "grid_row": null,
            "max_height": null,
            "align_content": null,
            "visibility": null,
            "align_self": null,
            "height": null,
            "min_height": null,
            "padding": null,
            "grid_auto_rows": null,
            "grid_gap": null,
            "max_width": null,
            "order": null,
            "_view_module_version": "1.2.0",
            "grid_template_areas": null,
            "object_position": null,
            "object_fit": null,
            "grid_auto_columns": null,
            "margin": null,
            "display": null,
            "left": null
          }
        }
      }
    }
  },
  "cells": [
    {
      "cell_type": "markdown",
      "metadata": {
        "id": "view-in-github",
        "colab_type": "text"
      },
      "source": [
        "<a href=\"https://colab.research.google.com/github/Samalander0/hiking-identifier/blob/main/hiker_helper_classifier.ipynb\" target=\"_parent\"><img src=\"https://colab.research.google.com/assets/colab-badge.svg\" alt=\"Open In Colab\"/></a>"
      ]
    },
    {
      "cell_type": "markdown",
      "metadata": {
        "id": "VVMjLKqp2as3"
      },
      "source": [
        "#Hiker Helper Image Classifier"
      ]
    },
    {
      "cell_type": "markdown",
      "metadata": {
        "id": "De7JB2JP2f8P"
      },
      "source": [
        "A multi-categorical classifier that shows what hiking-related items (if any) are in your photo."
      ]
    },
    {
      "cell_type": "code",
      "metadata": {
        "id": "A9zdMqluJDgn"
      },
      "source": [
        "from fastai.vision.all import *\n",
        "from fastai.vision.widgets import *"
      ],
      "execution_count": null,
      "outputs": []
    },
    {
      "cell_type": "code",
      "metadata": {
        "id": "obitad3w_UZb"
      },
      "source": [
        "#Our files can be found by following the path specified in our dataframe's 'fname' column\n",
        "def get_x(r): return path/r['fname']\n",
        "#Our labels can be found by looking at our dataframe's 'labels' column and splitting elements separated by a space\n",
        "def get_y(r): return r['labels'].split(' ')\n",
        "\n",
        "learn_inf = load_learner('export.pkl')"
      ],
      "execution_count": null,
      "outputs": []
    },
    {
      "cell_type": "code",
      "source": [
        "import json;\n",
        "\n",
        "expectedResults = ['binoculars','boots','bowl','flashlight','harness','leash','compass','medical','metal','plastic','pocket','sandals','sneakers','towel','waste']\n",
        "urls = '{\"binoculars\": \"https://www.amazon.com/s?k=binoculars&crid=3J4X35VXUO62D&sprefix=binocular%2Caps%2C181&ref=nb_sb_noss_1\", \"boots\": \"https://www.amazon.com/s?k=hiking+boots&crid=2NWAHSP0B1B0Z&sprefix=hiking+boots%2Caps%2C181&ref=nb_sb_noss_1\", \"bowl\": \"https://www.amazon.com/s?k=collapsible+dog+bowls&crid=2M7NAYYXGC148&sprefix=collap%2Caps%2C180&ref=nb_sb_ss_ts-doa-p_1_6\", \"compass\": \"https://www.amazon.com/s?k=magnetic+compass+for+hiking&crid=3UDV3EE72R1MW&sprefix=magnetic+compass+for+hikin%2Caps%2C173&ref=nb_sb_noss_2\", \"flashlight\": \"https://www.amazon.com/s?k=flashlight+for+hiking&crid=26GSZNSBETWST&sprefix=flashlight+for+hikin%2Caps%2C180&ref=nb_sb_noss_2\", \"harness\": \"https://www.amazon.com/s?k=dog+harness+for+hiking&crid=31I8G9ZTRNH8S&sprefix=dog+harness+for+hiki%2Caps%2C162&ref=nb_sb_noss_2\", \"leash\": \"https://www.amazon.com/s?k=dog+leash+for+hike&crid=1D4ORVJMKEM8M&sprefix=dog+leashe+for+hike%2Caps%2C144&ref=nb_sb_noss_2\", \"magnetic\": \"https://www.amazon.com/s?k=magnetic+compass+for+hiking&crid=3UDV3EE72R1MW&sprefix=magnetic+compass+for+hikin%2Caps%2C173&ref=nb_sb_noss_2\", \"medical\": \"https://www.amazon.com/s?k=medical+kit+for+hiking&crid=1SC3T8HWOF4A&sprefix=medical+kit+for+hiki%2Caps%2C171&ref=nb_sb_noss_2\", \"metal\": \"https://www.amazon.com/s?k=metal+waterbottle+for+hiking&crid=G667TPO5CI55&sprefix=metal+waterbottle+for+hikin%2Caps%2C163&ref=nb_sb_noss_2\",\"plastic\": \"plastic\", \"pocket\": \"https://www.amazon.com/s?k=pocket+knifefor+hiking&crid=18SPIVVO3GZ6W&sprefix=pocket+knifefor+hiki%2Caps%2C247&ref=nb_sb_noss_2\", \"sandals\": \"https://www.amazon.com/s?k=sandals+for+hiking&crid=2NGQXEIGM0B2A&sprefix=sandals+for+hikin%2Caps%2C174&ref=nb_sb_noss_2\", \"sneakers\": \"https://www.amazon.com/s?k=hiking+sneakers&crid=1GCTYL44WJY93&sprefix=hiking+sneaker%2Caps%2C180&ref=nb_sb_noss_1\", \"towel\": \"https://www.amazon.com/s?k=small+towel&crid=1TSZHCEDCILB0&sprefix=small+towel+%2Caps%2C169&ref=nb_sb_noss_2\", \"waste\": \"https://www.amazon.com/s?k=dog+waste+bag&crid=1XD4BRRSXDY2E&sprefix=dog+waste+ba%2Caps%2C172&ref=nb_sb_noss_2\"}'\n",
        "resultURLs = json.loads(urls)\n",
        "\n",
        "found = []\n",
        "notFound = []\n",
        "def update_label():\n",
        "  for result in expectedResults: \n",
        "    try:\n",
        "      pred_class.index(result)\n",
        "      found.append(result)\n",
        "    except:\n",
        "      notFound.append(result)\n",
        "  lbl_pred.value = f'Found: {found}; Not Found: {notFound}'"
      ],
      "metadata": {
        "id": "BGoTSCI37zjA"
      },
      "execution_count": null,
      "outputs": []
    },
    {
      "cell_type": "code",
      "metadata": {
        "id": "bNdHdYq4_7sq"
      },
      "source": [
        "btn_upload = widgets.FileUpload()"
      ],
      "execution_count": null,
      "outputs": []
    },
    {
      "cell_type": "code",
      "metadata": {
        "id": "m40M-gtwEP6V"
      },
      "source": [
        "btn_run = widgets.Button(description='Classify')"
      ],
      "execution_count": null,
      "outputs": []
    },
    {
      "cell_type": "code",
      "metadata": {
        "id": "QOOhhRguEYHJ"
      },
      "source": [
        "out_pl = widgets.Output()\n",
        "lbl_pred = widgets.Label()\n",
        "lbl_items = widgets.Label()"
      ],
      "execution_count": null,
      "outputs": []
    },
    {
      "cell_type": "code",
      "metadata": {
        "id": "sMo0_9ZEhyl8"
      },
      "source": [
        "def on_click_classify(change):\n",
        "    img = PILImage.create(btn_upload.data[-1])\n",
        "    out_pl.clear_output()\n",
        "    with out_pl: display(img.to_thumb(128,128))\n",
        "    pred,pred_idx,probs = learn_inf.predict(img)\n",
        "    lbl_pred.value = f'Prediction: {pred};'\n",
        "    update_label()\n",
        "\n",
        "btn_run.on_click(on_click_classify)"
      ],
      "execution_count": null,
      "outputs": []
    },
    {
      "cell_type": "code",
      "metadata": {
        "id": "30PYBlv-EymF",
        "colab": {
          "base_uri": "https://localhost:8080/",
          "height": 145,
          "referenced_widgets": [
            "339f9487babf4a1380e4e2b88a7be071",
            "9ea4df3c50b44feebfb43e60cf3b0949",
            "dc56b94b24b64d0e9fe93166ba342d7d",
            "f9e04f012c914cfdb7d9033b032902bb",
            "682c6583d24344ce9e19686c03515b90",
            "d43846f630474dbaa6e9aae24eab4df4",
            "a80e3703fbfc4612a95a36f84dd6e3b9",
            "41def96661774abfbda702f3b8a3feac",
            "41b6461827434af3a9fd0511bb3fdb08",
            "2c4ff406acd64a31bf30870cf24d71c9",
            "6c9b3a53e03a4f559709454a8a20faf0",
            "b5f8ed1a40004acc84f55d400413e3ee",
            "3e4a724f69e747f5bd182afd3d9e3e85",
            "2ce8d4e2e2f04ea18772e00f227b8e63",
            "8fd74c69eaf64f6aa32affbf3f4854f3",
            "fb9ca58d20a640bcb059819334f5ca98"
          ]
        },
        "outputId": "77894f13-8567-4a82-d04e-bb586c1d7c50"
      },
      "source": [
        "VBox([widgets.Label('Select your image!'), \n",
        "      btn_upload, btn_run, out_pl, lbl_pred])"
      ],
      "execution_count": null,
      "outputs": [
        {
          "output_type": "display_data",
          "data": {
            "application/vnd.jupyter.widget-view+json": {
              "model_id": "339f9487babf4a1380e4e2b88a7be071",
              "version_minor": 0,
              "version_major": 2
            },
            "text/plain": [
              "VBox(children=(Label(value='Select your bear!'), FileUpload(value={}, description='Upload'), Button(descriptio…"
            ]
          },
          "metadata": {
            "tags": []
          }
        }
      ]
    }
  ]
}